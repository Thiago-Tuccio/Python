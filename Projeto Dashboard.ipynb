{
 "cells": [
  {
   "cell_type": "markdown",
   "metadata": {},
   "source": [
    "# Bibliotecas essenciais"
   ]
  },
  {
   "cell_type": "markdown",
   "metadata": {},
   "source": [
    "Se necessário fazer instalação das bibliotecas não instaladas"
   ]
  },
  {
   "cell_type": "code",
   "execution_count": 1,
   "metadata": {},
   "outputs": [],
   "source": [
    "import pandas as pd\n",
    "import matplotlib.pyplot as plt"
   ]
  },
  {
   "cell_type": "markdown",
   "metadata": {},
   "source": [
    "Bibliotecas para obtenção de dados de MF"
   ]
  },
  {
   "cell_type": "code",
   "execution_count": 2,
   "metadata": {},
   "outputs": [
    {
     "name": "stderr",
     "output_type": "stream",
     "text": [
      "2024-06-28 17:56:21,402 [logging.log_init] INFO: LOGLEVEL=INFO\n",
      "2024-06-28 17:56:23,355 [_charts_utils.<module>] INFO: Overwriting plotly default template with vizro chart template. To revert back to the default template, run `import plotly.io as pio; pio.templates.default = 'plotly'`.\n"
     ]
    }
   ],
   "source": [
    "import yfinance as yf\n",
    "import fundamentus\n",
    "\n",
    "from tradingcomdados import alternative_data as ad\n",
    "from tradingcomdados import funds_data as fd\n",
    "\n",
    "import vizro.plotly.express as px\n",
    "from vizro import Vizro\n",
    "import vizro.models as vm"
   ]
  },
  {
   "cell_type": "markdown",
   "metadata": {},
   "source": [
    "# 1. Importação dos dados"
   ]
  },
  {
   "cell_type": "markdown",
   "metadata": {},
   "source": [
    "Importando dados do Ibovespa"
   ]
  },
  {
   "cell_type": "code",
   "execution_count": 3,
   "metadata": {},
   "outputs": [],
   "source": [
    "ibov = ad.index_composition(\"ibov\", mode='list')"
   ]
  },
  {
   "cell_type": "markdown",
   "metadata": {},
   "source": [
    "Importando os setores da bolsa"
   ]
  },
  {
   "cell_type": "code",
   "execution_count": 4,
   "metadata": {},
   "outputs": [],
   "source": [
    "setores = ad.get_sectors()\n",
    "setores.rename(columns={'CÓDIGO':'TICKER','NOME NO PREGÃO':'EMPRESA'}, inplace=True) #inplace=True vai salvar as alterações para tratar depois"
   ]
  },
  {
   "cell_type": "markdown",
   "metadata": {},
   "source": [
    "Dados fundamentalistas"
   ]
  },
  {
   "cell_type": "code",
   "execution_count": 5,
   "metadata": {},
   "outputs": [],
   "source": [
    "df = fundamentus.get_resultado()"
   ]
  },
  {
   "cell_type": "markdown",
   "metadata": {},
   "source": [
    "Cotações"
   ]
  },
  {
   "cell_type": "code",
   "execution_count": 6,
   "metadata": {},
   "outputs": [
    {
     "name": "stderr",
     "output_type": "stream",
     "text": [
      "[*********************100%%**********************]  86 of 86 completed\n"
     ]
    }
   ],
   "source": [
    "ibov_sa = [i + '.SA' for i in ibov] #Fazer isso pois o yf precisa de .SA para empresas BR\n",
    "\n",
    "cotacoes_ibov = yf.download(ibov_sa, start = '2023-01-01').Close #.Close é para pegar só o dado de fechamento da cota\n",
    "\n",
    "cotacoes_ibov['Date'] = cotacoes_ibov.index"
   ]
  },
  {
   "cell_type": "markdown",
   "metadata": {},
   "source": [
    "# 2. Processamento dos dados"
   ]
  },
  {
   "cell_type": "code",
   "execution_count": 7,
   "metadata": {},
   "outputs": [
    {
     "name": "stderr",
     "output_type": "stream",
     "text": [
      "C:\\Users\\thi_t\\AppData\\Local\\Temp\\ipykernel_11188\\3108437522.py:2: SettingWithCopyWarning: \n",
      "A value is trying to be set on a copy of a slice from a DataFrame.\n",
      "Try using .loc[row_indexer,col_indexer] = value instead\n",
      "\n",
      "See the caveats in the documentation: https://pandas.pydata.org/pandas-docs/stable/user_guide/indexing.html#returning-a-view-versus-a-copy\n",
      "  dados['TICKER'] = dados.index.str[0:4]\n"
     ]
    }
   ],
   "source": [
    "dados = df[df.index.isin(ibov)]\n",
    "dados['TICKER'] = dados.index.str[0:4]"
   ]
  },
  {
   "cell_type": "markdown",
   "metadata": {},
   "source": [
    "## 2.2 Unindo a tabela de dados fundamentalistas com os setores da bolsa"
   ]
  },
  {
   "cell_type": "code",
   "execution_count": 8,
   "metadata": {},
   "outputs": [],
   "source": [
    "resultados = pd.merge(dados, setores, how=\"inner\", on='TICKER')"
   ]
  },
  {
   "cell_type": "code",
   "execution_count": 9,
   "metadata": {},
   "outputs": [],
   "source": [
    "data_melted = pd.melt(cotacoes_ibov,id_vars=['Date'] ,var_name='Ativo',value_name='Price')\n",
    "data_melted['TICKER'] = data_melted.Ativo.str[0:4]"
   ]
  },
  {
   "cell_type": "markdown",
   "metadata": {},
   "source": [
    "## 2.3. Jutando dados de cotação com os setores da bolsa"
   ]
  },
  {
   "cell_type": "code",
   "execution_count": 10,
   "metadata": {},
   "outputs": [],
   "source": [
    "data_quotes = pd.merge(data_melted, setores, how=\"inner\", on='TICKER')\n",
    "data_quotes['SETOR'] = data_quotes['SEGMENTO'].astype(str)"
   ]
  },
  {
   "cell_type": "code",
   "execution_count": 11,
   "metadata": {},
   "outputs": [],
   "source": [
    "cotacoes_ibov.drop(['Date'], axis=1, inplace=True)#axis=0 - linhas; axis=1 - colunas"
   ]
  },
  {
   "cell_type": "code",
   "execution_count": 12,
   "metadata": {},
   "outputs": [],
   "source": [
    "cotacoes_ibov_normalizado = cotacoes_ibov/cotacoes_ibov.iloc[0]\n",
    "cotacoes_ibov_normalizado['Date'] = cotacoes_ibov_normalizado.index\n",
    "\n",
    "data_melted_normalizado = pd.melt(cotacoes_ibov_normalizado, id_vars=['Date'], var_name='Ativo', value_name='Price')\n",
    "data_melted_normalizado['TICKER'] = data_melted_normalizado.Ativo.str[0:4]\n",
    "data_quotes_normalizado = pd.merge(data_melted_normalizado, setores, how = 'inner', on = 'TICKER')\n",
    "data_quotes_normalizado['SETOR'] = data_quotes_normalizado['SEGMENTO'].astype(str)"
   ]
  },
  {
   "cell_type": "markdown",
   "metadata": {},
   "source": [
    "# Dashboard\n"
   ]
  },
  {
   "cell_type": "code",
   "execution_count": 13,
   "metadata": {},
   "outputs": [
    {
     "data": {
      "text/html": [
       "\n",
       "        <iframe\n",
       "            width=\"100%\"\n",
       "            height=\"650\"\n",
       "            src=\"http://127.0.0.1:8050/\"\n",
       "            frameborder=\"0\"\n",
       "            allowfullscreen\n",
       "            \n",
       "        ></iframe>\n",
       "        "
      ],
      "text/plain": [
       "<IPython.lib.display.IFrame at 0x1cb1d28cbd0>"
      ]
     },
     "metadata": {},
     "output_type": "display_data"
    }
   ],
   "source": [
    "page1 = vm.Page(\n",
    "    title = 'Dashboard fundamentalista de ações do Ibovespa',\n",
    "    components = [\n",
    "        vm.Graph(id = 'PLvsPVP',figure = px.scatter(resultados, x = 'pl', y = 'pvp', color = 'SETOR ECONÔMICO')),\n",
    "        vm.Graph(id = 'BAR_ROE',figure = px.bar(resultados, x = 'TICKER', y = 'roe', color = 'SETOR ECONÔMICO')),\n",
    "        vm.Graph(id = 'BAR_DY',figure = px.bar(resultados, x = 'TICKER', y = 'dy', color = 'SETOR ECONÔMICO'))      \n",
    "    ],\n",
    "    controls = [\n",
    "        vm.Filter(column = 'SEGMENTO'),\n",
    "        vm.Filter(column = 'SETOR ECONÔMICO'),\n",
    "        vm.Filter(column = 'pl', selector = vm.RangeSlider()),\n",
    "        vm.Filter(column = 'dy', selector = vm.RangeSlider()),\n",
    "        vm.Filter(column = 'pvp', selector = vm.RangeSlider()),\n",
    "        vm.Filter(column = 'mrgebit', selector = vm.RangeSlider())       \n",
    "    ]\n",
    "\n",
    ")\n",
    "\n",
    "page2 = vm.Page(\n",
    "    title = 'Cotações de ações do IBOV',\n",
    "    path = 'IBOV',\n",
    "    components=[\n",
    "        vm.Graph(id=\"cotacoes\", figure=px.line(data_quotes, x='Date', y='Price', color=\"Ativo\"))\n",
    "    ],\n",
    "    controls = [\n",
    "        vm.Filter(column = 'SETOR', selector=vm.Checklist())]\n",
    "    \n",
    "    \n",
    ")\n",
    "\n",
    "page3 = vm.Page(\n",
    "    title=\"Cotações de ações do IBOV normalizadas\",\n",
    "    path=\"IBOV_NORMALIZADO\",\n",
    "    components=[\n",
    "        vm.Graph(id=\"cotacoes_normalizadas\", figure=px.line(data_quotes_normalizado, x='Date', y='Price', color=\"Ativo\"))\n",
    "    ],\n",
    "    controls = [\n",
    "        vm.Filter(column = 'SETOR', selector=vm.Checklist())]\n",
    "\n",
    ")\n",
    "\n",
    "dashboard = vm.Dashboard(pages = [page1, page2, page3])\n",
    "\n",
    "Vizro().build(dashboard).run()"
   ]
  }
 ],
 "metadata": {
  "kernelspec": {
   "display_name": "base",
   "language": "python",
   "name": "python3"
  },
  "language_info": {
   "codemirror_mode": {
    "name": "ipython",
    "version": 3
   },
   "file_extension": ".py",
   "mimetype": "text/x-python",
   "name": "python",
   "nbconvert_exporter": "python",
   "pygments_lexer": "ipython3",
   "version": "3.11.7"
  }
 },
 "nbformat": 4,
 "nbformat_minor": 2
}
