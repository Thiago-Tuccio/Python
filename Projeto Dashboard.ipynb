{
 "cells": [
  {
   "cell_type": "markdown",
   "metadata": {},
   "source": [
    "# Bibliotecas essenciais"
   ]
  },
  {
   "cell_type": "markdown",
   "metadata": {},
   "source": [
    "Se necessário fazer instalação das bibliotecas não instaladas"
   ]
  },
  {
   "cell_type": "code",
   "execution_count": 15,
   "metadata": {},
   "outputs": [
    {
     "name": "stdout",
     "output_type": "stream",
     "text": [
      "Requirement already satisfied: yfinance in c:\\users\\thi_t\\anaconda3\\lib\\site-packages (0.2.40)\n",
      "Requirement already satisfied: fundamentus in c:\\users\\thi_t\\anaconda3\\lib\\site-packages (0.2.0)\n",
      "Requirement already satisfied: tradingcomdados in c:\\users\\thi_t\\anaconda3\\lib\\site-packages (1.3.7)\n",
      "Requirement already satisfied: vizro in c:\\users\\thi_t\\anaconda3\\lib\\site-packages (0.1.18)\n",
      "Requirement already satisfied: pandas in c:\\users\\thi_t\\anaconda3\\lib\\site-packages (2.0.3)\n",
      "Requirement already satisfied: matplotlib in c:\\users\\thi_t\\anaconda3\\lib\\site-packages (3.8.0)\n",
      "Requirement already satisfied: numpy>=1.16.5 in c:\\users\\thi_t\\anaconda3\\lib\\site-packages (from yfinance) (1.25.2)\n",
      "Requirement already satisfied: requests>=2.31 in c:\\users\\thi_t\\anaconda3\\lib\\site-packages (from yfinance) (2.31.0)\n",
      "Requirement already satisfied: multitasking>=0.0.7 in c:\\users\\thi_t\\anaconda3\\lib\\site-packages (from yfinance) (0.0.11)\n",
      "Requirement already satisfied: lxml>=4.9.1 in c:\\users\\thi_t\\anaconda3\\lib\\site-packages (from yfinance) (4.9.3)\n",
      "Requirement already satisfied: platformdirs>=2.0.0 in c:\\users\\thi_t\\anaconda3\\lib\\site-packages (from yfinance) (3.10.0)\n",
      "Requirement already satisfied: pytz>=2022.5 in c:\\users\\thi_t\\anaconda3\\lib\\site-packages (from yfinance) (2023.3.post1)\n",
      "Requirement already satisfied: frozendict>=2.3.4 in c:\\users\\thi_t\\anaconda3\\lib\\site-packages (from yfinance) (2.4.4)\n",
      "Requirement already satisfied: peewee>=3.16.2 in c:\\users\\thi_t\\anaconda3\\lib\\site-packages (from yfinance) (3.17.5)\n",
      "Requirement already satisfied: beautifulsoup4>=4.11.1 in c:\\users\\thi_t\\anaconda3\\lib\\site-packages (from yfinance) (4.12.2)\n",
      "Requirement already satisfied: html5lib>=1.1 in c:\\users\\thi_t\\anaconda3\\lib\\site-packages (from yfinance) (1.1)\n",
      "Requirement already satisfied: requests-cache>=0.5.2 in c:\\users\\thi_t\\anaconda3\\lib\\site-packages (from fundamentus) (1.2.1)\n",
      "Requirement already satisfied: tabulate>=0.8.7 in c:\\users\\thi_t\\anaconda3\\lib\\site-packages (from fundamentus) (0.9.0)\n",
      "Requirement already satisfied: requests-oauthlib==1.3.1 in c:\\users\\thi_t\\anaconda3\\lib\\site-packages (from tradingcomdados) (1.3.1)\n",
      "Requirement already satisfied: requests-unixsocket==0.2.0 in c:\\users\\thi_t\\anaconda3\\lib\\site-packages (from tradingcomdados) (0.2.0)\n",
      "Requirement already satisfied: joblib==1.1.1 in c:\\users\\thi_t\\anaconda3\\lib\\site-packages (from tradingcomdados) (1.1.1)\n",
      "Requirement already satisfied: scikit-learn==1.2.2 in c:\\users\\thi_t\\anaconda3\\lib\\site-packages (from tradingcomdados) (1.2.2)\n",
      "Requirement already satisfied: python-dateutil>=2.8.2 in c:\\users\\thi_t\\anaconda3\\lib\\site-packages (from pandas) (2.8.2)\n",
      "Requirement already satisfied: tzdata>=2022.1 in c:\\users\\thi_t\\anaconda3\\lib\\site-packages (from pandas) (2023.3)\n",
      "Requirement already satisfied: charset-normalizer<4,>=2 in c:\\users\\thi_t\\anaconda3\\lib\\site-packages (from requests>=2.31->yfinance) (2.0.4)\n",
      "Requirement already satisfied: idna<4,>=2.5 in c:\\users\\thi_t\\anaconda3\\lib\\site-packages (from requests>=2.31->yfinance) (3.4)\n",
      "Requirement already satisfied: urllib3<3,>=1.21.1 in c:\\users\\thi_t\\anaconda3\\lib\\site-packages (from requests>=2.31->yfinance) (2.0.7)\n",
      "Requirement already satisfied: certifi>=2017.4.17 in c:\\users\\thi_t\\anaconda3\\lib\\site-packages (from requests>=2.31->yfinance) (2024.2.2)\n",
      "Requirement already satisfied: oauthlib>=3.0.0 in c:\\users\\thi_t\\anaconda3\\lib\\site-packages (from requests-oauthlib==1.3.1->tradingcomdados) (3.2.2)\n",
      "Requirement already satisfied: scipy>=1.3.2 in c:\\users\\thi_t\\anaconda3\\lib\\site-packages (from scikit-learn==1.2.2->tradingcomdados) (1.11.4)\n",
      "Requirement already satisfied: threadpoolctl>=2.0.0 in c:\\users\\thi_t\\anaconda3\\lib\\site-packages (from scikit-learn==1.2.2->tradingcomdados) (2.2.0)\n",
      "Requirement already satisfied: dash-ag-grid>=31.0.0 in c:\\users\\thi_t\\anaconda3\\lib\\site-packages (from vizro) (31.2.0)\n",
      "Requirement already satisfied: dash-bootstrap-components in c:\\users\\thi_t\\anaconda3\\lib\\site-packages (from vizro) (1.6.0)\n",
      "Requirement already satisfied: dash-mantine-components<0.13.0 in c:\\users\\thi_t\\anaconda3\\lib\\site-packages (from vizro) (0.12.1)\n",
      "Requirement already satisfied: dash>=2.17.1 in c:\\users\\thi_t\\anaconda3\\lib\\site-packages (from vizro) (2.17.1)\n",
      "Requirement already satisfied: flask-caching>=2 in c:\\users\\thi_t\\anaconda3\\lib\\site-packages (from vizro) (2.3.0)\n",
      "Requirement already satisfied: pydantic>=1.10.13 in c:\\users\\thi_t\\anaconda3\\lib\\site-packages (from vizro) (2.7.4)\n",
      "Requirement already satisfied: setuptools>=65.5.1 in c:\\users\\thi_t\\anaconda3\\lib\\site-packages (from vizro) (68.2.2)\n",
      "Requirement already satisfied: werkzeug>=3.0.1 in c:\\users\\thi_t\\anaconda3\\lib\\site-packages (from vizro) (3.0.3)\n",
      "Requirement already satisfied: wrapt>=1 in c:\\users\\thi_t\\anaconda3\\lib\\site-packages (from vizro) (1.14.1)\n",
      "Requirement already satisfied: contourpy>=1.0.1 in c:\\users\\thi_t\\anaconda3\\lib\\site-packages (from matplotlib) (1.2.0)\n",
      "Requirement already satisfied: cycler>=0.10 in c:\\users\\thi_t\\anaconda3\\lib\\site-packages (from matplotlib) (0.11.0)\n",
      "Requirement already satisfied: fonttools>=4.22.0 in c:\\users\\thi_t\\anaconda3\\lib\\site-packages (from matplotlib) (4.25.0)\n",
      "Requirement already satisfied: kiwisolver>=1.0.1 in c:\\users\\thi_t\\anaconda3\\lib\\site-packages (from matplotlib) (1.4.4)\n",
      "Requirement already satisfied: packaging>=20.0 in c:\\users\\thi_t\\anaconda3\\lib\\site-packages (from matplotlib) (23.1)\n",
      "Requirement already satisfied: pillow>=6.2.0 in c:\\users\\thi_t\\anaconda3\\lib\\site-packages (from matplotlib) (10.2.0)\n",
      "Requirement already satisfied: pyparsing>=2.3.1 in c:\\users\\thi_t\\anaconda3\\lib\\site-packages (from matplotlib) (3.0.9)\n",
      "Requirement already satisfied: soupsieve>1.2 in c:\\users\\thi_t\\anaconda3\\lib\\site-packages (from beautifulsoup4>=4.11.1->yfinance) (2.5)\n",
      "Requirement already satisfied: Flask<3.1,>=1.0.4 in c:\\users\\thi_t\\anaconda3\\lib\\site-packages (from dash>=2.17.1->vizro) (2.2.5)\n",
      "Requirement already satisfied: plotly>=5.0.0 in c:\\users\\thi_t\\anaconda3\\lib\\site-packages (from dash>=2.17.1->vizro) (5.9.0)\n",
      "Requirement already satisfied: dash-html-components==2.0.0 in c:\\users\\thi_t\\anaconda3\\lib\\site-packages (from dash>=2.17.1->vizro) (2.0.0)\n",
      "Requirement already satisfied: dash-core-components==2.0.0 in c:\\users\\thi_t\\anaconda3\\lib\\site-packages (from dash>=2.17.1->vizro) (2.0.0)\n",
      "Requirement already satisfied: dash-table==5.0.0 in c:\\users\\thi_t\\anaconda3\\lib\\site-packages (from dash>=2.17.1->vizro) (5.0.0)\n",
      "Requirement already satisfied: importlib-metadata in c:\\users\\thi_t\\anaconda3\\lib\\site-packages (from dash>=2.17.1->vizro) (7.0.1)\n",
      "Requirement already satisfied: typing-extensions>=4.1.1 in c:\\users\\thi_t\\anaconda3\\lib\\site-packages (from dash>=2.17.1->vizro) (4.9.0)\n",
      "Requirement already satisfied: retrying in c:\\users\\thi_t\\anaconda3\\lib\\site-packages (from dash>=2.17.1->vizro) (1.3.4)\n",
      "Requirement already satisfied: nest-asyncio in c:\\users\\thi_t\\appdata\\roaming\\python\\python311\\site-packages (from dash>=2.17.1->vizro) (1.5.8)\n",
      "Requirement already satisfied: cachelib<0.10.0,>=0.9.0 in c:\\users\\thi_t\\anaconda3\\lib\\site-packages (from flask-caching>=2->vizro) (0.9.0)\n",
      "Requirement already satisfied: six>=1.9 in c:\\users\\thi_t\\anaconda3\\lib\\site-packages (from html5lib>=1.1->yfinance) (1.16.0)\n",
      "Requirement already satisfied: webencodings in c:\\users\\thi_t\\anaconda3\\lib\\site-packages (from html5lib>=1.1->yfinance) (0.5.1)\n",
      "Requirement already satisfied: annotated-types>=0.4.0 in c:\\users\\thi_t\\anaconda3\\lib\\site-packages (from pydantic>=1.10.13->vizro) (0.7.0)\n",
      "Requirement already satisfied: pydantic-core==2.18.4 in c:\\users\\thi_t\\anaconda3\\lib\\site-packages (from pydantic>=1.10.13->vizro) (2.18.4)\n",
      "Requirement already satisfied: attrs>=21.2 in c:\\users\\thi_t\\anaconda3\\lib\\site-packages (from requests-cache>=0.5.2->fundamentus) (23.1.0)\n",
      "Requirement already satisfied: cattrs>=22.2 in c:\\users\\thi_t\\anaconda3\\lib\\site-packages (from requests-cache>=0.5.2->fundamentus) (23.2.3)\n",
      "Requirement already satisfied: url-normalize>=1.4 in c:\\users\\thi_t\\anaconda3\\lib\\site-packages (from requests-cache>=0.5.2->fundamentus) (1.4.3)\n",
      "Requirement already satisfied: MarkupSafe>=2.1.1 in c:\\users\\thi_t\\anaconda3\\lib\\site-packages (from werkzeug>=3.0.1->vizro) (2.1.3)\n",
      "Requirement already satisfied: Jinja2>=3.0 in c:\\users\\thi_t\\anaconda3\\lib\\site-packages (from Flask<3.1,>=1.0.4->dash>=2.17.1->vizro) (3.1.3)\n",
      "Requirement already satisfied: itsdangerous>=2.0 in c:\\users\\thi_t\\anaconda3\\lib\\site-packages (from Flask<3.1,>=1.0.4->dash>=2.17.1->vizro) (2.0.1)\n",
      "Requirement already satisfied: click>=8.0 in c:\\users\\thi_t\\anaconda3\\lib\\site-packages (from Flask<3.1,>=1.0.4->dash>=2.17.1->vizro) (8.1.7)\n",
      "Requirement already satisfied: tenacity>=6.2.0 in c:\\users\\thi_t\\anaconda3\\lib\\site-packages (from plotly>=5.0.0->dash>=2.17.1->vizro) (8.2.2)\n",
      "Requirement already satisfied: zipp>=0.5 in c:\\users\\thi_t\\anaconda3\\lib\\site-packages (from importlib-metadata->dash>=2.17.1->vizro) (3.17.0)\n",
      "Requirement already satisfied: colorama in c:\\users\\thi_t\\anaconda3\\lib\\site-packages (from click>=8.0->Flask<3.1,>=1.0.4->dash>=2.17.1->vizro) (0.4.6)\n",
      "Note: you may need to restart the kernel to use updated packages.\n"
     ]
    }
   ],
   "source": [
    "pip install yfinance fundamentus tradingcomdados vizro pandas matplotlib"
   ]
  },
  {
   "cell_type": "code",
   "execution_count": 1,
   "metadata": {},
   "outputs": [],
   "source": [
    "import pandas as pd\n",
    "import matplotlib.pyplot as plt"
   ]
  },
  {
   "cell_type": "markdown",
   "metadata": {},
   "source": [
    "Bibliotecas para obtenção de dados de MF"
   ]
  },
  {
   "cell_type": "code",
   "execution_count": 2,
   "metadata": {},
   "outputs": [
    {
     "name": "stderr",
     "output_type": "stream",
     "text": [
      "2024-07-01 15:01:04,076 [logging.log_init] INFO: LOGLEVEL=INFO\n",
      "2024-07-01 15:01:06,474 [_charts_utils.<module>] INFO: Overwriting plotly default template with vizro chart template. To revert back to the default template, run `import plotly.io as pio; pio.templates.default = 'plotly'`.\n"
     ]
    }
   ],
   "source": [
    "import yfinance as yf\n",
    "import fundamentus\n",
    "\n",
    "from tradingcomdados import alternative_data as ad\n",
    "from tradingcomdados import funds_data as fd\n",
    "\n",
    "import vizro.plotly.express as px\n",
    "from vizro import Vizro\n",
    "import vizro.models as vm"
   ]
  },
  {
   "cell_type": "markdown",
   "metadata": {},
   "source": [
    "# 1. Importação dos dados"
   ]
  },
  {
   "cell_type": "markdown",
   "metadata": {},
   "source": [
    "Importando dados do Ibovespa"
   ]
  },
  {
   "cell_type": "code",
   "execution_count": 3,
   "metadata": {},
   "outputs": [],
   "source": [
    "ibov = ad.index_composition(\"ibov\", mode='list')"
   ]
  },
  {
   "cell_type": "markdown",
   "metadata": {},
   "source": [
    "Importando os setores da bolsa"
   ]
  },
  {
   "cell_type": "code",
   "execution_count": 4,
   "metadata": {},
   "outputs": [],
   "source": [
    "setores = ad.get_sectors()\n",
    "setores.rename(columns={'CÓDIGO':'TICKER','NOME NO PREGÃO':'EMPRESA'}, inplace=True) #inplace=True vai salvar as alterações para tratar depois"
   ]
  },
  {
   "cell_type": "markdown",
   "metadata": {},
   "source": [
    "Dados fundamentalistas"
   ]
  },
  {
   "cell_type": "code",
   "execution_count": 5,
   "metadata": {},
   "outputs": [],
   "source": [
    "df = fundamentus.get_resultado()"
   ]
  },
  {
   "cell_type": "markdown",
   "metadata": {},
   "source": [
    "Cotações"
   ]
  },
  {
   "cell_type": "code",
   "execution_count": 6,
   "metadata": {},
   "outputs": [
    {
     "name": "stderr",
     "output_type": "stream",
     "text": [
      "[*********************100%%**********************]  86 of 86 completed\n",
      "2024-07-01 15:02:05,748 [multi.download] ERROR: \n",
      "5 Failed downloads:\n",
      "2024-07-01 15:02:05,748 [multi.download] ERROR: ['SBSP3.SA']: ReadTimeout(ReadTimeoutError(\"HTTPSConnectionPool(host='query2.finance.yahoo.com', port=443): Read timed out. (read timeout=10)\"))\n",
      "2024-07-01 15:02:05,748 [multi.download] ERROR: ['CPFE3.SA', 'KLBN11.SA', 'BBSE3.SA']: JSONDecodeError('Expecting value: line 1 column 1 (char 0)')\n",
      "2024-07-01 15:02:05,748 [multi.download] ERROR: ['IGTI11.SA']: YFChartError('%ticker%: Request Failed')\n"
     ]
    }
   ],
   "source": [
    "ibov_sa = [i + '.SA' for i in ibov] #Fazer isso pois o yf precisa de .SA para empresas BR\n",
    "\n",
    "cotacoes_ibov = yf.download(ibov_sa, start = '2023-01-01').Close #.Close é para pegar só os dados de fechamento das cotas\n",
    "\n",
    "cotacoes_ibov['Date'] = cotacoes_ibov.index"
   ]
  },
  {
   "cell_type": "markdown",
   "metadata": {},
   "source": [
    "# 2. Processamento dos dados"
   ]
  },
  {
   "cell_type": "code",
   "execution_count": 7,
   "metadata": {},
   "outputs": [
    {
     "name": "stderr",
     "output_type": "stream",
     "text": [
      "C:\\Users\\thi_t\\AppData\\Local\\Temp\\ipykernel_15800\\3108437522.py:2: SettingWithCopyWarning: \n",
      "A value is trying to be set on a copy of a slice from a DataFrame.\n",
      "Try using .loc[row_indexer,col_indexer] = value instead\n",
      "\n",
      "See the caveats in the documentation: https://pandas.pydata.org/pandas-docs/stable/user_guide/indexing.html#returning-a-view-versus-a-copy\n",
      "  dados['TICKER'] = dados.index.str[0:4]\n"
     ]
    }
   ],
   "source": [
    "dados = df[df.index.isin(ibov)]\n",
    "dados['TICKER'] = dados.index.str[0:4]"
   ]
  },
  {
   "cell_type": "markdown",
   "metadata": {},
   "source": [
    "## 2.2 Unindo a tabela de dados fundamentalistas com os setores da bolsa"
   ]
  },
  {
   "cell_type": "code",
   "execution_count": 8,
   "metadata": {},
   "outputs": [],
   "source": [
    "resultados = pd.merge(dados, setores, how=\"inner\", on='TICKER')"
   ]
  },
  {
   "cell_type": "code",
   "execution_count": 9,
   "metadata": {},
   "outputs": [],
   "source": [
    "data_melted = pd.melt(cotacoes_ibov,id_vars=['Date'] ,var_name='Ativo',value_name='Price')\n",
    "data_melted['TICKER'] = data_melted.Ativo.str[0:4]"
   ]
  },
  {
   "cell_type": "markdown",
   "metadata": {},
   "source": [
    "## 2.3. Jutando dados de cotação com os setores da bolsa"
   ]
  },
  {
   "cell_type": "code",
   "execution_count": 10,
   "metadata": {},
   "outputs": [],
   "source": [
    "data_quotes = pd.merge(data_melted, setores, how=\"inner\", on='TICKER')\n",
    "data_quotes['SETOR'] = data_quotes['SEGMENTO'].astype(str)"
   ]
  },
  {
   "cell_type": "code",
   "execution_count": 11,
   "metadata": {},
   "outputs": [],
   "source": [
    "cotacoes_ibov.drop(['Date'], axis=1, inplace=True)#axis=0 - linhas; axis=1 - colunas"
   ]
  },
  {
   "cell_type": "code",
   "execution_count": 12,
   "metadata": {},
   "outputs": [],
   "source": [
    "cotacoes_ibov_normalizado = cotacoes_ibov/cotacoes_ibov.iloc[0]\n",
    "cotacoes_ibov_normalizado['Date'] = cotacoes_ibov_normalizado.index\n",
    "\n",
    "data_melted_normalizado = pd.melt(cotacoes_ibov_normalizado, id_vars=['Date'], var_name='Ativo', value_name='Price')\n",
    "data_melted_normalizado['TICKER'] = data_melted_normalizado.Ativo.str[0:4]\n",
    "data_quotes_normalizado = pd.merge(data_melted_normalizado, setores, how = 'inner', on = 'TICKER')\n",
    "data_quotes_normalizado['SETOR'] = data_quotes_normalizado['SEGMENTO'].astype(str)"
   ]
  },
  {
   "cell_type": "markdown",
   "metadata": {},
   "source": [
    "# Dashboard\n"
   ]
  },
  {
   "cell_type": "code",
   "execution_count": 13,
   "metadata": {},
   "outputs": [
    {
     "data": {
      "text/html": [
       "\n",
       "        <iframe\n",
       "            width=\"100%\"\n",
       "            height=\"650\"\n",
       "            src=\"http://127.0.0.1:8050/\"\n",
       "            frameborder=\"0\"\n",
       "            allowfullscreen\n",
       "            \n",
       "        ></iframe>\n",
       "        "
      ],
      "text/plain": [
       "<IPython.lib.display.IFrame at 0x1bcd8aae590>"
      ]
     },
     "metadata": {},
     "output_type": "display_data"
    }
   ],
   "source": [
    "page1 = vm.Page(\n",
    "    title = 'Dashboard fundamentalista de ações do Ibovespa',\n",
    "    components = [\n",
    "        vm.Graph(id = 'PLvsPVP',figure = px.scatter(resultados, x = 'pl', y = 'pvp', color = 'SETOR ECONÔMICO')),\n",
    "        vm.Graph(id = 'BAR_ROE',figure = px.bar(resultados, x = 'TICKER', y = 'roe', color = 'SETOR ECONÔMICO')),\n",
    "        vm.Graph(id = 'BAR_DY',figure = px.bar(resultados, x = 'TICKER', y = 'dy', color = 'SETOR ECONÔMICO'))      \n",
    "    ],\n",
    "    controls = [\n",
    "        vm.Filter(column = 'SEGMENTO'),\n",
    "        vm.Filter(column = 'SETOR ECONÔMICO'),\n",
    "        vm.Filter(column = 'pl', selector = vm.RangeSlider()),\n",
    "        vm.Filter(column = 'dy', selector = vm.RangeSlider()),\n",
    "        vm.Filter(column = 'pvp', selector = vm.RangeSlider()),\n",
    "        vm.Filter(column = 'mrgebit', selector = vm.RangeSlider())       \n",
    "    ]\n",
    "\n",
    ")\n",
    "\n",
    "page2 = vm.Page(\n",
    "    title = 'Cotações de ações do IBOV',\n",
    "    path = 'IBOV',\n",
    "    components=[\n",
    "        vm.Graph(id=\"cotacoes\", figure=px.line(data_quotes, x='Date', y='Price', color=\"Ativo\"))\n",
    "    ],\n",
    "    controls = [\n",
    "        vm.Filter(column = 'SETOR', selector=vm.Checklist())]\n",
    "    \n",
    "    \n",
    ")\n",
    "\n",
    "page3 = vm.Page(\n",
    "    title=\"Cotações de ações do IBOV normalizadas\",\n",
    "    path=\"IBOV_NORMALIZADO\",\n",
    "    components=[\n",
    "        vm.Graph(id=\"cotacoes_normalizadas\", figure=px.line(data_quotes_normalizado, x='Date', y='Price', color=\"Ativo\"))\n",
    "    ],\n",
    "    controls = [\n",
    "        vm.Filter(column = 'SETOR', selector=vm.Checklist())]\n",
    "\n",
    ")\n",
    "\n",
    "dashboard = vm.Dashboard(pages = [page1, page2, page3])\n",
    "\n",
    "Vizro().build(dashboard).run()"
   ]
  }
 ],
 "metadata": {
  "kernelspec": {
   "display_name": "base",
   "language": "python",
   "name": "python3"
  },
  "language_info": {
   "codemirror_mode": {
    "name": "ipython",
    "version": 3
   },
   "file_extension": ".py",
   "mimetype": "text/x-python",
   "name": "python",
   "nbconvert_exporter": "python",
   "pygments_lexer": "ipython3",
   "version": "3.11.7"
  }
 },
 "nbformat": 4,
 "nbformat_minor": 2
}
